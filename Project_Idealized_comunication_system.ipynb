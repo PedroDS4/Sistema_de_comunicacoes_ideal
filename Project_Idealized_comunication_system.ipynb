{
  "nbformat": 4,
  "nbformat_minor": 0,
  "metadata": {
    "colab": {
      "provenance": [],
      "include_colab_link": true
    },
    "kernelspec": {
      "name": "python3",
      "display_name": "Python 3"
    },
    "language_info": {
      "name": "python"
    }
  },
  "cells": [
    {
      "cell_type": "markdown",
      "metadata": {
        "id": "view-in-github",
        "colab_type": "text"
      },
      "source": [
        "<a href=\"https://colab.research.google.com/github/PedroDS4/Sistema_de_comunicacoes_ideal/blob/main/Project_Idealized_comunication_system.ipynb\" target=\"_parent\"><img src=\"https://colab.research.google.com/assets/colab-badge.svg\" alt=\"Open In Colab\"/></a>"
      ]
    },
    {
      "cell_type": "markdown",
      "source": [
        "#**Sistema de Transmissão de dados idealizado**\n",
        "O sistema de transmissão de dados implementado nesse código fará a simulação realista de um sistema, considerando os efeitos de canal e todas as etapas do transmissor e receptor\n",
        "\n"
      ],
      "metadata": {
        "id": "_fwkglBO_zJZ"
      }
    },
    {
      "cell_type": "markdown",
      "source": [
        "##**Funções importantes**"
      ],
      "metadata": {
        "id": "KxlTaLTYJ_po"
      }
    },
    {
      "cell_type": "code",
      "source": [
        "import numpy as np\n",
        "import matplotlib.pyplot as plt\n",
        "from scipy.signal import remez, freqz, convolve\n",
        "\n",
        "\n",
        "def letrapam(string):\n",
        "  \"\"\"\n",
        "  Codifica uma string usando 4-PAM\n",
        "\n",
        "  Args:\n",
        "    string: A string a ser codificada.\n",
        "\n",
        "  Returns:\n",
        "    Um array NumPy contendo os símbolos 4-PAM codificados.\n",
        "  \"\"\"\n",
        "\n",
        "  # Converte a string em uma sequência de bits\n",
        "  bits = ''.join(format(ord(c), '08b') for c in string)\n",
        "\n",
        "  # Mapeia os bits para símbolos 4-PAM\n",
        "  symbols = []\n",
        "  for i in range(0, len(bits), 2):\n",
        "    dibits = bits[i:i+2]\n",
        "    if dibits == '00':\n",
        "      symbols.append(-3)\n",
        "    elif dibits == '01':\n",
        "      symbols.append(-1)\n",
        "    elif dibits == '10':\n",
        "      symbols.append(1)\n",
        "    elif dibits == '11':\n",
        "      symbols.append(3)\n",
        "\n",
        "  return np.array(symbols)\n",
        "\n",
        "def pamdecod(symbols):\n",
        "  \"\"\"\n",
        "  Decodifica símbolos 4-PAM em uma string.\n",
        "\n",
        "  Args:\n",
        "    symbols: Um array NumPy contendo os símbolos 4-PAM.\n",
        "\n",
        "  Returns:\n",
        "    A string decodificada.\n",
        "  \"\"\"\n",
        "\n",
        "  # Mapeia os símbolos 4-PAM de volta para bits\n",
        "  bits = ''\n",
        "  for symbol in symbols:\n",
        "    if symbol == -3:\n",
        "      bits += '00'\n",
        "    elif symbol == -1:\n",
        "      bits += '01'\n",
        "    elif symbol == 1:\n",
        "      bits += '10'\n",
        "    elif symbol == 3:\n",
        "      bits += '11'\n",
        "\n",
        "  # Converte a sequência de bits de volta para uma string\n",
        "  string = ''.join(chr(int(bits[i:i+8], 2)) for i in range(0, len(bits), 8))\n",
        "\n",
        "  return string\n",
        "\n",
        "\n",
        "\n",
        "########################Funções importantes do receptor#########################\n",
        "def quantizador(x,niveis):\n",
        "  \"\"\"\n",
        "    Quantiza um sinal com base em níveis fornecidos.\n",
        "\n",
        "    Args:\n",
        "        x: Sinal de entrada.\n",
        "        niveis: Array de níveis de quantização.\n",
        "\n",
        "    Returns:\n",
        "        Sinal quantizado.\n",
        "  \"\"\"\n",
        "\n",
        "  L = len(niveis)\n",
        "  N = len(x)\n",
        "  x_q = np.zeros(N,dtype = int)\n",
        "  for i in range(N):\n",
        "    xq_i = x[i]\n",
        "    e = niveis - xq_i\n",
        "    j = np.argmin(np.abs(e))\n",
        "    x_q[i] = niveis[j]\n",
        "\n",
        "  return x_q\n",
        "\n"
      ],
      "metadata": {
        "id": "hyXwIjonJ_6h"
      },
      "execution_count": 6,
      "outputs": []
    },
    {
      "cell_type": "code",
      "execution_count": 7,
      "metadata": {
        "colab": {
          "base_uri": "https://localhost:8080/"
        },
        "id": "KWHbFEx8_tnu",
        "outputId": "c995536a-350e-4622-c532-c7829d6eddd6"
      },
      "outputs": [
        {
          "output_type": "stream",
          "name": "stdout",
          "text": [
            "\u001b\u001b\n",
            "Olá mundo\n",
            "[-1 -3  3  3 -1  1  3 -3  3  1 -3 -1 -3  1 -3 -3 -1  1  3 -1 -1  3 -1 -1\n",
            " -1  1  3  1 -1  1 -1 -3 -1  1  3  3]\n"
          ]
        }
      ],
      "source": [
        "# Exemplo de uso\n",
        "symbols = np.array([-3, -1, 1, 3, -3, -1, 1, 3])\n",
        "string = pamdecod(symbols)\n",
        "print(string)\n",
        "# Exemplo de uso\n",
        "string = \"Olá mundo\"\n",
        "symbols = letrapam(string)\n",
        "string_rec = pamdecod(symbols)\n",
        "print(string_rec)\n",
        "print(symbols)"
      ]
    },
    {
      "cell_type": "markdown",
      "source": [
        "##**Transmissor**\n",
        "As etapas do transmissor são\n",
        "* Codificação\n",
        "* Filtro de pulso\n",
        "* Modulação\n",
        "* Transmissão ao Canal\n",
        "\n",
        "Essas etapas serão implementadas abaixo, e sua matemática será descrita abaixo.\n",
        "\n",
        "\n",
        "### **Matemática da Transmissão**\n",
        "**Codificação**\n",
        "A codificação é o ato de transformar os caracteres em string que irão ser transmitidos em bits, por exemplo\n",
        "\n",
        "$$\n",
        "\"A\"  -> 0100 0001\n",
        "$$\n",
        "\n",
        "$$\n",
        "\"B\"  -> 0100 0010\n",
        "$$\n",
        "\n",
        "essa conversão pode ser encontrada diretamente na tabela ASCII, e existem funções que ja fazem essa conversão.\n",
        "\n",
        "\n",
        "Então seja uma sequência a ser transmitida, como por exemplo abaixo\n",
        "\n",
        "$$\n",
        "Str = \"Olá \\ mundo\"\n",
        "$$\n",
        "\n",
        "Quando codificada, gera-se um vetor com os bits dos símbolos, que depois irá ser convertido em números únicos\n",
        "\n",
        "$$\n",
        "s = letrapam(str)\n",
        "$$\n",
        "\n",
        "O tipo de codificação será uma 4-PAM\n",
        "dada pela relação\n",
        "\n",
        "00 -> -3\n",
        "\n",
        "01 -> -1\n",
        "\n",
        "10 ->  1\n",
        "\n",
        "11 -> 3\n",
        "\n",
        "\n",
        "\n",
        "**Filtro de pulso**\n",
        "Depois da codificação, os símbolos dos caracteres precisam ser armazenados em um vetor, para serem transformados em um sinal analógico.\n",
        "\n",
        "Esse vetor em que os simbolos são adicionados, pode ser representado por um trem de impulsos, dado por\n",
        "\n",
        "$$\n",
        "s[n] = \\sum_{k = 0}^{M} s_k \\cdot δ[n - kM]\n",
        "$$\n",
        "\n",
        "\n",
        "e esse sinal de simbolos é convoluído com uma forma de pulso, $p[n]$, e o sinal resultante que será transmitido, fica\n",
        "\n",
        "$$\n",
        "x[n] = s[n] \\ast p[n] = \\sum_{k = 0}^{M} s_k \\cdot δ[n - kM] \\ast p[n]\n",
        "$$\n",
        "\n",
        "então\n",
        "\n",
        "$$\n",
        "x[n] =  \\sum_{k = 0}^{M} s_k \\cdot (p[n] \\ast \\delta[n-kM]) = \\sum_{k = 0}^{M} s_k p[n - kM]\n",
        "$$\n",
        "\n",
        "e o sinal $x[n]$ é passado por um conversor D/A para a modulação e posteriormente transmissão.\n",
        "\n",
        "**Modulação**\n",
        "A modulação é o ato de deslocarmos o sinal em frequẽncia, para poder transmití-la em um certo canal\n",
        "Matematicamente é dada por\n",
        "\n",
        "$$\n",
        "x_{m}(t) = x(t) \\cdot cos(2\\pi f_c t)\n",
        "$$\n",
        "\n"
      ],
      "metadata": {
        "id": "s4Ifk937AGpo"
      }
    },
    {
      "cell_type": "code",
      "source": [
        "#Exemplo de uma transmissão de um sinal\n",
        "\n",
        "#Codificação\n",
        "mensagem = \"Olá mundo\"\n",
        "s = letrapam(mensagem)\n",
        "N = len(s)\n",
        "M = 10\n",
        "mup = np.zeros(N*M)\n",
        "for i in range(N):\n",
        "  mup[i*M] = s[i]\n",
        "\n",
        "\n",
        "\n",
        "#Filtro de pulso\n",
        "Ts = 1/20000\n",
        "Fs = 1/Ts\n",
        "\n",
        "\n",
        "p_hamming = np.hamming(M)\n",
        "\n",
        "\n",
        "x = np.convolve(mup,p_hamming,'same')\n",
        "t = np.arange(0,len(x)*Ts,Ts)\n",
        "\n",
        "\n",
        "#Modulação\n",
        "fc = 5000\n",
        "x_m = x * np.cos(2*np.pi*fc*t)"
      ],
      "metadata": {
        "id": "pNSxrH3oTVdQ"
      },
      "execution_count": 8,
      "outputs": []
    },
    {
      "cell_type": "markdown",
      "source": [
        "##**Receptor**\n",
        "Depois de passar pelo canal, o sinal chega ao receptor, onde as manipulações que foram feitas para transmití-lo precisam ser revertidas ou alteradas, para recuperar a mensagem original transmitida, além disso precisamos de algum jeito compensar os efeitos de canal.\n",
        "\n",
        "\n",
        "###**Demodulação**\n",
        "A demodulação é o ato de reverter a modulação feita no transmissor, ou seja, multiplicar por outro cosseno para que surja uma componente de frequências centrada para poder ser feita a filtragem do sinal e recuperá-lo.\n",
        "\n",
        "Seja o sinal modulado dado por\n",
        "$$\n",
        "x_m(t) = x(t) \\cdot cos(2 \\pi f_c t)\n",
        "$$\n",
        "\n",
        "para demodularmos esse sinal, multiplicamos esse sinal recebido mais uma vez por um cosseno na mesma frequência e fase, assim\n",
        "\n",
        "$$\n",
        "x_r(t) = x_m(t) \\cdot cos(2 \\pi f_c t) = x(t) cos^2(2 \\pi f_c t)\n",
        "$$\n",
        "\n",
        "usando a seguinte identidade trigonométrica\n",
        "\n",
        "$$\n",
        "cos^2(2 \\pi f_c t) = \\frac{ 1 + cos(4 \\pi f_c t)}{2}\n",
        "$$\n",
        "\n",
        "vemos que surge uma componente de frequência ainda mais alta, e uma réplica do espectro do sinal original na origem, então para obtermos de volta o sinal $x(t)$ basta filtrar o sinal resultante, então\n",
        "\n",
        "$$\n",
        "x(t) = 2 \\cdot LPF\\{\\ \\frac{ x(t) }{2} + \\frac{ x(t) cos(4 \\pi f_c t)}{2}  \\}\\\n",
        "$$\n"
      ],
      "metadata": {
        "id": "bLubb9a0_dX1"
      }
    },
    {
      "cell_type": "code",
      "source": [
        "#Demodulação\n",
        "\n",
        "x_cos = x_m * np.cos(2 * np.pi * fc *t)\n",
        "\n",
        "# Filtro demodulador\n",
        "B = 5000\n",
        "Fn = Fs/2\n",
        "delta_f = 100\n",
        "fs1 = B + delta_f\n",
        "fp1 = fs1 - delta_f/2\n",
        "\n",
        "\n",
        "# Parâmetros do filtro\n",
        "f = [0, fp1, fs1, Fn]  # Faixas normalizadas\n",
        "a = [1,0]  # Especificação do ganho (0 na primeira faixa, 1 na segunda)\n",
        "fl = 200  # Ordem do filtro\n",
        "\n",
        "\n",
        "# Projeto do filtro usando a função remez\n",
        "h = remez(fl + 1, f, a, fs = Fs)  # remez exige a frequência de amostragem e ja faz a normalização\n",
        "\n",
        "x_demod = 2*np.convolve(x_cos, h,'same')\n",
        "\n",
        "\n",
        "# Decimação para obter mais uma vez os picos dos simbolos\n",
        "z = x_demod[::M]\n",
        "t_z = np.arange(len(z)) * Ts\n",
        "\n",
        "\n",
        "# Visualizar o sinal após decimação\n",
        "plt.figure()\n",
        "plt.plot(t_z, z, 'green')\n",
        "plt.grid(True)\n",
        "plt.show()\n",
        "\n",
        "\n",
        "\n",
        "# Quantização\n",
        "niveis = np.array([-3, -1, 1, 3])\n",
        "m_prime = quantizador(z, niveis)\n",
        "\n",
        "\n",
        "print(f\"Mensagem original: {mensagem}\")\n",
        "print(f\"Mensagem codificada: {s}\")\n",
        "print(f\"Mensagem quantizada: {m_prime}\")\n",
        "\n",
        "# Decodificação\n",
        "string_rec = pamdecod(m_prime)\n",
        "print(f\"Mensagem decodificada: {string_rec}\")\n",
        "\n",
        "\n",
        "num_errors = np.sum(np.abs(m_prime-s))\n",
        "print(f'Número de erros: {num_errors}')"
      ],
      "metadata": {
        "colab": {
          "base_uri": "https://localhost:8080/",
          "height": 558
        },
        "id": "VLhLeQl-_zF3",
        "outputId": "24204e41-c315-4e1b-eb66-b431b242c984"
      },
      "execution_count": 9,
      "outputs": [
        {
          "output_type": "display_data",
          "data": {
            "text/plain": [
              "<Figure size 640x480 with 1 Axes>"
            ],
            "image/png": "[encoded data removed]"
          },
          "metadata": {}
        },
        {
          "output_type": "stream",
          "name": "stdout",
          "text": [
            "Mensagem original: Olá mundo\n",
            "Mensagem codificada: [-1 -3  3  3 -1  1  3 -3  3  1 -3 -1 -3  1 -3 -3 -1  1  3 -1 -1  3 -1 -1\n",
            " -1  1  3  1 -1  1 -1 -3 -1  1  3  3]\n",
            "Mensagem quantizada: [-1 -3  3  3 -1  1  3 -3  3  1 -3 -1 -3  1 -3 -3 -1  1  3 -1 -1  3 -1 -1\n",
            " -1  1  3  1 -1  1 -1 -3 -1  1  3  3]\n",
            "Mensagem decodificada: Olá mundo\n",
            "Número de erros: 0\n"
          ]
        }
      ]
    }
  ]
}